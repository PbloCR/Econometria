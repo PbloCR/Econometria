{
 "cells": [
  {
   "cell_type": "markdown",
   "metadata": {},
   "source": [
    "# Practica 4: Detección Multicolinealidad"
   ]
  },
  {
   "cell_type": "markdown",
   "metadata": {},
   "source": [
    "## Multicolinealidad"
   ]
  },
  {
   "cell_type": "code",
   "execution_count": null,
   "metadata": {},
   "outputs": [],
   "source": [
    "import numpy as np\n",
    "import statsmodels.api as sm\n",
    "import statsmodels.formula.api as smf\n",
    "import matplotlib.pylab as plt\n",
    "from wooldridge import *"
   ]
  },
  {
   "cell_type": "code",
   "execution_count": null,
   "metadata": {},
   "outputs": [],
   "source": [
    "datos=dataWoo(\"hprice1\")\n",
    "y=datos[\"lprice\"]\n",
    "vars=[\"llotsize\", \"lsqrft\", \"bdrms\"]\n",
    "X=datos[vars]\n",
    "\n",
    "mco1 = sm.OLS(y, sm.add_constant(X)).fit()\n",
    "mco1.summary()"
   ]
  },
  {
   "cell_type": "code",
   "execution_count": null,
   "metadata": {},
   "outputs": [],
   "source": [
    "mco1.condition_number #Número de Condición"
   ]
  },
  {
   "cell_type": "code",
   "execution_count": null,
   "metadata": {},
   "outputs": [],
   "source": [
    "import statsmodels.stats.outliers_influence as oi\n",
    "\n",
    "vifs=[oi.variance_inflation_factor(X.values, i) for i in range(X.shape[1])]\n",
    "vifs"
   ]
  },
  {
   "cell_type": "code",
   "execution_count": null,
   "metadata": {},
   "outputs": [],
   "source": [
    "vars"
   ]
  },
  {
   "cell_type": "code",
   "execution_count": null,
   "metadata": {},
   "outputs": [],
   "source": [
    "corr_matrix=np.corrcoef(X.T)\n",
    "print(corr_matrix)"
   ]
  },
  {
   "cell_type": "code",
   "execution_count": null,
   "metadata": {},
   "outputs": [],
   "source": [
    "import statsmodels.graphics.api as smg\n",
    "smg.plot_corr(corr_matrix, xnames=[\"llotsize\", \"lsqrft\", \"bdrms\"])\n",
    "plt.show()"
   ]
  },
  {
   "cell_type": "code",
   "execution_count": null,
   "metadata": {},
   "outputs": [],
   "source": [
    "#Datos de Theil\n",
    "import pandas as pd\n",
    "datos = pd.read_csv('Theil.csv', delimiter=\";\")\n",
    "datos\n",
    "y=datos['consume']\n",
    "X=datos[['income', 'relprice']]\n",
    "mco2 = sm.OLS(y, sm.add_constant(X)).fit()\n",
    "mco2.summary()"
   ]
  },
  {
   "cell_type": "code",
   "execution_count": null,
   "metadata": {},
   "outputs": [],
   "source": [
    "vifs=[oi.variance_inflation_factor(X.values, i) for i in range(X.shape[1])]\n",
    "print(vifs)\n",
    "corr_matrix=np.corrcoef(X.T)\n",
    "print(corr_matrix)"
   ]
  },
  {
   "cell_type": "markdown",
   "metadata": {},
   "source": [
    "# Normalidad de los Residuos"
   ]
  },
  {
   "cell_type": "markdown",
   "metadata": {},
   "source": [
    "- Jarque-Bera: Test de hipótesis que contrasta si los datos de la muestra tienen el coeficiente de simetría y la curtósis de una distribución normal.\n",
    "- $\\chi^2$ (p-valor): p-valor del Test de Jaque-Bera.\n",
    "- Skew: Coeficiente de Simetría de pearson de los residuos.\n",
    "- Kurtosis: Coeficiente de apuntamiento de los residuos.\n",
    "- Komogorov-Smirnov: Test de Hipótesis para contrastar si una muestra proviene de una distribución (en este caso normal)."
   ]
  },
  {
   "cell_type": "code",
   "execution_count": null,
   "metadata": {},
   "outputs": [],
   "source": [
    "import statsmodels.stats.api as sms\n",
    "name = ['Jarque-Bera', 'Chi^2 two-tail prob.', 'Skew', 'Kurtosis']\n",
    "test = sms.jarque_bera(mco1.resid)\n",
    "for i in range(4):\n",
    "    print(name[i], test[i])"
   ]
  },
  {
   "cell_type": "code",
   "execution_count": null,
   "metadata": {},
   "outputs": [],
   "source": [
    "from matplotlib import pyplot\n",
    "from statsmodels.graphics.gofplots import qqplot\n",
    "pyplot.hist(mco1.resid)\n",
    "pyplot.show()\n",
    "qqplot(mco1.resid, line='s')\n",
    "pyplot.show()"
   ]
  },
  {
   "cell_type": "code",
   "execution_count": null,
   "metadata": {},
   "outputs": [],
   "source": [
    "import statsmodels.stats.diagnostic as diag\n",
    "\n",
    "diag.kstest_normal(mco1.resid)"
   ]
  },
  {
   "cell_type": "markdown",
   "metadata": {},
   "source": [
    "# Bootstrap"
   ]
  },
  {
   "cell_type": "code",
   "execution_count": null,
   "metadata": {
    "scrolled": true
   },
   "outputs": [],
   "source": [
    "datos=dataWoo(\"hprice1\")\n",
    "y=datos[\"lprice\"]\n",
    "vars=[\"llotsize\", \"lsqrft\", \"bdrms\"]\n",
    "X=datos[vars]\n",
    "\n",
    "mco1=sm.OLS(y, sm.add_constant(X)).fit()\n",
    "\n",
    "\n",
    "from random import choices\n",
    "\n",
    "beta=[]\n",
    "n=len(y)\n",
    "for it in range(10000): #repetimos 1000 veces la estimacion\n",
    "    I=choices(list(range(n)), k=n) # elegimos una muestra con repeticion de los datos\n",
    "    mco3 = sm.OLS(y[I], sm.add_constant(X.values[I,:])).fit() #ajustamos el modelo\n",
    "    beta.append(list(mco3.params)) # guardamos los coeficientes\n",
    "beta=np.array(beta)\n",
    "k=len(X.T)+1\n",
    "for i in range(k):\n",
    "    q025=np.percentile(beta[:,i], 2.5) #percentil 2.5%\n",
    "    q975=np.percentile(beta[:,i], 97.5) #percentil 97.5%\n",
    "    media=np.mean(beta[:,i]) #media de los betas\n",
    "    sd=np.std(beta[:,i]) #desviación tipica de los betas\n",
    "    print(i, media,[q025, q975])\n",
    "    "
   ]
  },
  {
   "cell_type": "code",
   "execution_count": null,
   "metadata": {},
   "outputs": [],
   "source": [
    "mco1.summary()"
   ]
  },
  {
   "cell_type": "code",
   "execution_count": null,
   "metadata": {},
   "outputs": [],
   "source": []
  }
 ],
 "metadata": {
  "kernelspec": {
   "display_name": "Python 3",
   "language": "python",
   "name": "python3"
  },
  "language_info": {
   "codemirror_mode": {
    "name": "ipython",
    "version": 3
   },
   "file_extension": ".py",
   "mimetype": "text/x-python",
   "name": "python",
   "nbconvert_exporter": "python",
   "pygments_lexer": "ipython3",
   "version": "3.8.10"
  }
 },
 "nbformat": 4,
 "nbformat_minor": 2
}
