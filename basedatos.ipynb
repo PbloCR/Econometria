{
 "cells": [
  {
   "cell_type": "markdown",
   "metadata": {},
   "source": [
    "__Grupo 19:__ \n",
    "   - Héctor Gorlat Muñoz,\n",
    "   - Pablo Cos Ruiz,\n",
    "   - Antonio López González,"
   ]
  },
  {
   "cell_type": "markdown",
   "metadata": {},
   "source": [
    "# MODELO ECONOMÉTRICO"
   ]
  },
  {
   "cell_type": "markdown",
   "metadata": {},
   "source": [
    "En este proyecto, intentamos explicar el número de robos en función de varias variables a nivel de comunidad autónoma de España, es decir, planteamos un modelo lineal en el que nuestra variable Y o explicada es el número de robos por comunidad. Las variables escogidas para explicar nuestra variable endógena son:\n",
    "- PIB\n",
    "- Pobreza\n",
    "- Paro\n",
    "- Préstamo de libros\n",
    "- Inmigrantes americanos (ext2)\n",
    "- Inmigrantes africanos  (ext)\n",
    "\n",
    "\n",
    "Todas estas variables estan definidas por comunidad autónoma."
   ]
  },
  {
   "cell_type": "markdown",
   "metadata": {},
   "source": [
    "##   Introducimos las librerías con las que vamos a partir"
   ]
  },
  {
   "cell_type": "code",
   "execution_count": 322,
   "metadata": {},
   "outputs": [],
   "source": [
    "import numpy as np\n",
    "import statsmodels.api as sm\n",
    "import statsmodels.formula.api as smf\n",
    "import matplotlib.pylab as plt\n",
    "import seaborn as sns\n",
    "from wooldridge import *"
   ]
  },
  {
   "cell_type": "markdown",
   "metadata": {},
   "source": [
    "## Evaluación modelo elegido (mco)\n",
    "\n",
    "Primero,  vamos a hacer que Jupyter lea nuestro Excel, definiendo ya nuestras variables, y a continuación, realizaremos mínimos cuadrados oridnarios para empezar a conocer la validez de nuestro modelo."
   ]
  },
  {
   "cell_type": "code",
   "execution_count": 323,
   "metadata": {},
   "outputs": [
    {
     "data": {
      "text/html": [
       "<table class=\"simpletable\">\n",
       "<caption>OLS Regression Results</caption>\n",
       "<tr>\n",
       "  <th>Dep. Variable:</th>          <td>robo</td>       <th>  R-squared:         </th> <td>   0.606</td>\n",
       "</tr>\n",
       "<tr>\n",
       "  <th>Model:</th>                   <td>OLS</td>       <th>  Adj. R-squared:    </th> <td>   0.409</td>\n",
       "</tr>\n",
       "<tr>\n",
       "  <th>Method:</th>             <td>Least Squares</td>  <th>  F-statistic:       </th> <td>   3.079</td>\n",
       "</tr>\n",
       "<tr>\n",
       "  <th>Date:</th>             <td>Fri, 10 Dec 2021</td> <th>  Prob (F-statistic):</th>  <td>0.0461</td> \n",
       "</tr>\n",
       "<tr>\n",
       "  <th>Time:</th>                 <td>17:01:06</td>     <th>  Log-Likelihood:    </th> <td> -46.526</td>\n",
       "</tr>\n",
       "<tr>\n",
       "  <th>No. Observations:</th>      <td>    19</td>      <th>  AIC:               </th> <td>   107.1</td>\n",
       "</tr>\n",
       "<tr>\n",
       "  <th>Df Residuals:</th>          <td>    12</td>      <th>  BIC:               </th> <td>   113.7</td>\n",
       "</tr>\n",
       "<tr>\n",
       "  <th>Df Model:</th>              <td>     6</td>      <th>                     </th>     <td> </td>   \n",
       "</tr>\n",
       "<tr>\n",
       "  <th>Covariance Type:</th>      <td>nonrobust</td>    <th>                     </th>     <td> </td>   \n",
       "</tr>\n",
       "</table>\n",
       "<table class=\"simpletable\">\n",
       "<tr>\n",
       "      <td></td>        <th>coef</th>     <th>std err</th>      <th>t</th>      <th>P>|t|</th>  <th>[0.025</th>    <th>0.975]</th>  \n",
       "</tr>\n",
       "<tr>\n",
       "  <th>const</th>    <td>    0.4212</td> <td>    4.354</td> <td>    0.097</td> <td> 0.925</td> <td>   -9.066</td> <td>    9.908</td>\n",
       "</tr>\n",
       "<tr>\n",
       "  <th>PIB</th>      <td>    1.2684</td> <td>    1.238</td> <td>    1.024</td> <td> 0.326</td> <td>   -1.429</td> <td>    3.966</td>\n",
       "</tr>\n",
       "<tr>\n",
       "  <th>ext</th>      <td>    0.4351</td> <td>    0.273</td> <td>    1.591</td> <td> 0.138</td> <td>   -0.161</td> <td>    1.031</td>\n",
       "</tr>\n",
       "<tr>\n",
       "  <th>ext2</th>     <td>    0.1792</td> <td>    0.094</td> <td>    1.898</td> <td> 0.082</td> <td>   -0.026</td> <td>    0.385</td>\n",
       "</tr>\n",
       "<tr>\n",
       "  <th>Npobreza</th> <td>   -5.1405</td> <td>    1.561</td> <td>   -3.292</td> <td> 0.006</td> <td>   -8.543</td> <td>   -1.738</td>\n",
       "</tr>\n",
       "<tr>\n",
       "  <th>Nparo</th>    <td>    4.3817</td> <td>    1.478</td> <td>    2.966</td> <td> 0.012</td> <td>    1.163</td> <td>    7.601</td>\n",
       "</tr>\n",
       "<tr>\n",
       "  <th>Nlibro</th>   <td>   -5.9051</td> <td>    2.843</td> <td>   -2.077</td> <td> 0.060</td> <td>  -12.099</td> <td>    0.289</td>\n",
       "</tr>\n",
       "</table>\n",
       "<table class=\"simpletable\">\n",
       "<tr>\n",
       "  <th>Omnibus:</th>       <td> 0.580</td> <th>  Durbin-Watson:     </th> <td>   2.034</td>\n",
       "</tr>\n",
       "<tr>\n",
       "  <th>Prob(Omnibus):</th> <td> 0.748</td> <th>  Jarque-Bera (JB):  </th> <td>   0.319</td>\n",
       "</tr>\n",
       "<tr>\n",
       "  <th>Skew:</th>          <td>-0.302</td> <th>  Prob(JB):          </th> <td>   0.853</td>\n",
       "</tr>\n",
       "<tr>\n",
       "  <th>Kurtosis:</th>      <td> 2.806</td> <th>  Cond. No.          </th> <td>    199.</td>\n",
       "</tr>\n",
       "</table><br/><br/>Warnings:<br/>[1] Standard Errors assume that the covariance matrix of the errors is correctly specified."
      ],
      "text/plain": [
       "<class 'statsmodels.iolib.summary.Summary'>\n",
       "\"\"\"\n",
       "                            OLS Regression Results                            \n",
       "==============================================================================\n",
       "Dep. Variable:                   robo   R-squared:                       0.606\n",
       "Model:                            OLS   Adj. R-squared:                  0.409\n",
       "Method:                 Least Squares   F-statistic:                     3.079\n",
       "Date:                Fri, 10 Dec 2021   Prob (F-statistic):             0.0461\n",
       "Time:                        17:01:06   Log-Likelihood:                -46.526\n",
       "No. Observations:                  19   AIC:                             107.1\n",
       "Df Residuals:                      12   BIC:                             113.7\n",
       "Df Model:                           6                                         \n",
       "Covariance Type:            nonrobust                                         \n",
       "==============================================================================\n",
       "                 coef    std err          t      P>|t|      [0.025      0.975]\n",
       "------------------------------------------------------------------------------\n",
       "const          0.4212      4.354      0.097      0.925      -9.066       9.908\n",
       "PIB            1.2684      1.238      1.024      0.326      -1.429       3.966\n",
       "ext            0.4351      0.273      1.591      0.138      -0.161       1.031\n",
       "ext2           0.1792      0.094      1.898      0.082      -0.026       0.385\n",
       "Npobreza      -5.1405      1.561     -3.292      0.006      -8.543      -1.738\n",
       "Nparo          4.3817      1.478      2.966      0.012       1.163       7.601\n",
       "Nlibro        -5.9051      2.843     -2.077      0.060     -12.099       0.289\n",
       "==============================================================================\n",
       "Omnibus:                        0.580   Durbin-Watson:                   2.034\n",
       "Prob(Omnibus):                  0.748   Jarque-Bera (JB):                0.319\n",
       "Skew:                          -0.302   Prob(JB):                        0.853\n",
       "Kurtosis:                       2.806   Cond. No.                         199.\n",
       "==============================================================================\n",
       "\n",
       "Warnings:\n",
       "[1] Standard Errors assume that the covariance matrix of the errors is correctly specified.\n",
       "\"\"\""
      ]
     },
     "execution_count": 323,
     "metadata": {},
     "output_type": "execute_result"
    }
   ],
   "source": [
    "#Datos de basedatos\n",
    "import pandas as pd\n",
    "datos = pd.read_excel('basedatos.xlsx', delimiter=\";\")\n",
    "y=datos['robo']\n",
    "X=datos[['PIB','ext','ext2','Npobreza','Nparo','Nlibro']]\n",
    "mco2 = sm.OLS(y, sm.add_constant(X)).fit()\n",
    "mco2.summary()\n"
   ]
  },
  {
   "cell_type": "markdown",
   "metadata": {},
   "source": [
    "Tras numerosos intentos, y nuevas variables, conseguimos que el modelo se correcto y globalmente significativo."
   ]
  },
  {
   "cell_type": "markdown",
   "metadata": {},
   "source": [
    "# Multicolinealidad"
   ]
  },
  {
   "cell_type": "markdown",
   "metadata": {},
   "source": [
    "Para empezar este análisis debemos empezar observando el número de condición de nuestro modelo, en la tabla anterior podemos conocer su valor, Cond. No = 1.99e+05, que es muy superior a 900, valor límite para este análisis. Por tanto, deberemos proceder analizando los vifs de nuestro modelo."
   ]
  },
  {
   "cell_type": "code",
   "execution_count": 324,
   "metadata": {},
   "outputs": [
    {
     "data": {
      "text/plain": [
       "[2.26239238550383,\n",
       " 8.936349490712391,\n",
       " 8.077568436765262,\n",
       " 3.420697007468819,\n",
       " 3.339323685035686,\n",
       " 3.5338305759256543]"
      ]
     },
     "execution_count": 324,
     "metadata": {},
     "output_type": "execute_result"
    }
   ],
   "source": [
    "import statsmodels.stats.outliers_influence as oi\n",
    "\n",
    "vifs=[oi.variance_inflation_factor(X.values, i) for i in range(X.shape[1])]\n",
    "vifs"
   ]
  },
  {
   "cell_type": "markdown",
   "metadata": {},
   "source": [
    "Todos los valores se encuentran por debajo de 20, lo que indica que nuestro modelo no tiene problemas de multicolinealidad. Al principio, nuestro modelo si tenían problemas con las variables, por lo que tuvimos que corregir el problema haciendo logartimo y normalizando nuestras variables.\n",
    "\n",
    "Para seguir analizando la multicolinealidad, realizaremos la matriz de correlación y su gráfica."
   ]
  },
  {
   "cell_type": "code",
   "execution_count": 325,
   "metadata": {
    "scrolled": true
   },
   "outputs": [
    {
     "name": "stdout",
     "output_type": "stream",
     "text": [
      "[[ 1.00000000e+00 -1.83688077e-01 -2.27580636e-01  9.40471514e-02\n",
      "   1.34361141e-01 -8.50886052e-06]\n",
      " [-1.83688077e-01  1.00000000e+00  8.78368629e-01  2.17876468e-06\n",
      "  -2.46771187e-02  8.90134225e-01]\n",
      " [-2.27580636e-01  8.78368629e-01  1.00000000e+00 -1.17986162e-01\n",
      "  -1.52771153e-01  8.92231610e-01]\n",
      " [ 9.40471514e-02  2.17876468e-06 -1.17986162e-01  1.00000000e+00\n",
      "   8.32447609e-01 -2.20642690e-01]\n",
      " [ 1.34361141e-01 -2.46771187e-02 -1.52771153e-01  8.32447609e-01\n",
      "   1.00000000e+00 -2.07242162e-01]\n",
      " [-8.50886052e-06  8.90134225e-01  8.92231610e-01 -2.20642690e-01\n",
      "  -2.07242162e-01  1.00000000e+00]]\n"
     ]
    }
   ],
   "source": [
    "corr_matrix=np.corrcoef(X.T)\n",
    "print(corr_matrix)"
   ]
  },
  {
   "cell_type": "code",
   "execution_count": 326,
   "metadata": {},
   "outputs": [
    {
     "data": {
      "image/png": "[encoded data removed]",
      "text/plain": [
       "<Figure size 432x288 with 2 Axes>"
      ]
     },
     "metadata": {
      "needs_background": "light"
     },
     "output_type": "display_data"
    }
   ],
   "source": [
    "import statsmodels.graphics.api as smg\n",
    "smg.plot_corr(corr_matrix, xnames=[\"PIB\",\"Nlibro\", \"Nparo\", \"Npobreza\",\"ext\",\"ext2\"])\n",
    "plt.show()"
   ]
  },
  {
   "cell_type": "markdown",
   "metadata": {},
   "source": [
    "Con los siguientes gráficos podremos ver la normalidad de nuestros datos y analizar su correlación."
   ]
  },
  {
   "cell_type": "code",
   "execution_count": 327,
   "metadata": {
    "scrolled": true
   },
   "outputs": [
    {
     "data": {
      "text/plain": [
       "<seaborn.axisgrid.PairGrid at 0x275c5a73a58>"
      ]
     },
     "execution_count": 327,
     "metadata": {},
     "output_type": "execute_result"
    },
    {
     "data": {
      "image/png": "[encoded data removed]",
      "text/plain": [
       "<Figure size 1080x1080 with 42 Axes>"
      ]
     },
     "metadata": {
      "needs_background": "light"
     },
     "output_type": "display_data"
    }
   ],
   "source": [
    "sns.pairplot(datos[['PIB','Nlibro','Nparo','Npobreza','ext','ext2']])"
   ]
  },
  {
   "cell_type": "code",
   "execution_count": 328,
   "metadata": {},
   "outputs": [
    {
     "data": {
      "text/plain": [
       "Text(0, 0.5, 'Nlibro')"
      ]
     },
     "execution_count": 328,
     "metadata": {},
     "output_type": "execute_result"
    },
    {
     "data": {
      "image/png": "[encoded data removed]",
      "text/plain": [
       "<Figure size 432x288 with 1 Axes>"
      ]
     },
     "metadata": {
      "needs_background": "light"
     },
     "output_type": "display_data"
    }
   ],
   "source": [
    "plt.scatter(datos['PIB'],datos['Nlibro'])\n",
    "plt.title('¿Correlación?')\n",
    "plt.xlabel('PIB')\n",
    "plt.ylabel('Nlibro')"
   ]
  },
  {
   "cell_type": "markdown",
   "metadata": {},
   "source": [
    "El test de Shapiro es un método analítico para comprobar si una variable sigue una distribución normal o no. Si el p_valor que\n",
    "nos arroja es menos a 0.05 la variable cumple la hipótesis de normalidad. "
   ]
  },
  {
   "cell_type": "code",
   "execution_count": 329,
   "metadata": {},
   "outputs": [
    {
     "name": "stdout",
     "output_type": "stream",
     "text": [
      "estadistico=0.923,p_value=0.129412\n"
     ]
    }
   ],
   "source": [
    "estadistico, p_value = shapiro(datos[['Npobreza']])\n",
    "print('estadistico=%.3f,p_value=%3f' % (estadistico,p_value))"
   ]
  },
  {
   "cell_type": "markdown",
   "metadata": {},
   "source": [
    "#  Normalidad de los residuos"
   ]
  },
  {
   "cell_type": "code",
   "execution_count": 330,
   "metadata": {},
   "outputs": [
    {
     "data": {
      "image/png": "[encoded data removed]",
      "text/plain": [
       "<Figure size 432x288 with 1 Axes>"
      ]
     },
     "metadata": {
      "needs_background": "light"
     },
     "output_type": "display_data"
    },
    {
     "data": {
      "image/png": "[encoded data removed]",
      "text/plain": [
       "<Figure size 432x288 with 1 Axes>"
      ]
     },
     "metadata": {
      "needs_background": "light"
     },
     "output_type": "display_data"
    }
   ],
   "source": [
    "from matplotlib import pyplot\n",
    "from statsmodels.graphics.gofplots import qqplot\n",
    "pyplot.hist(mco1.resid)\n",
    "pyplot.show()\n",
    "qqplot(mco1.resid, line='s')\n",
    "pyplot.show()"
   ]
  },
  {
   "cell_type": "code",
   "execution_count": 331,
   "metadata": {},
   "outputs": [
    {
     "name": "stdout",
     "output_type": "stream",
     "text": [
      "estadistico=0.952,p_value=0.430780\n"
     ]
    }
   ],
   "source": [
    "estadistico, p_value = shapiro(mco1.resid)\n",
    "print('estadistico=%.3f,p_value=%3f' % (estadistico,p_value))"
   ]
  },
  {
   "cell_type": "markdown",
   "metadata": {},
   "source": [
    "Después del análisis de los residuos, podemos confirmar la hipótesis de linealidad y normalidad de estos."
   ]
  },
  {
   "cell_type": "markdown",
   "metadata": {},
   "source": [
    "# Heteroscedasticidad "
   ]
  },
  {
   "cell_type": "markdown",
   "metadata": {},
   "source": [
    "El siguiente paso, es estudiar la heteroscedasticidad, es decir, analizar el comportamiento de la varianza del término perturbación, si es constante o no.\n",
    "A continuación, vamos a utilizar métodos gráficos como el de residuos y de dispersión, y métodos analíticos, como el de Goldfelt-Quandt y Glesjer. Elegimos esos métodos analíticos porque la muestra es pequeña (19) y queremos estudiar casos concretos."
   ]
  },
  {
   "cell_type": "code",
   "execution_count": 332,
   "metadata": {},
   "outputs": [
    {
     "name": "stdout",
     "output_type": "stream",
     "text": [
      "(308.55177548570725, 0.00033650037661035775, 'increasing')\n"
     ]
    }
   ],
   "source": [
    "gq=sms.het_goldfeldquandt(mco1.resid, mco.model.exog)\n",
    "\n",
    "print(gq)"
   ]
  },
  {
   "cell_type": "markdown",
   "metadata": {},
   "source": [
    "El test Goldfelt-Quandt nos confirma que existe **HETEROSCEDASTICIDAD** en nuestro modelo. El p_valor=0,0003365, nos lleva a rechazar la hipótesis nula de homoscedasticidad. "
   ]
  },
  {
   "cell_type": "markdown",
   "metadata": {},
   "source": [
    "Para averiguar, y posteriormente corregir dónde esta el problema de heteroscedasticidad, prodeceremos a utilizar el test de Glejser. Después corregiremos mediante mínimos cuadrados ponderados."
   ]
  },
  {
   "cell_type": "code",
   "execution_count": 337,
   "metadata": {},
   "outputs": [
    {
     "name": "stdout",
     "output_type": "stream",
     "text": [
      "h: -3 -> pvalt: 0.08898240352253692 ;R2: 0.16067461869739086\n",
      "h: -2 -> pvalt: 0.08935259924266888 ;R2: 0.16033476939021563\n",
      "h: -1 -> pvalt: 0.11625295694468511 ;R2: 0.1387719457897597\n",
      "h: 1 -> pvalt: 0.4677793705870409 ;R2: 0.031430776726142806\n",
      "h: 2 -> pvalt: 0.8039957398525395 ;R2: 0.0037242078749044616\n",
      "h: 3 -> pvalt: 0.7607433678344422 ;R2: 0.005601186071417796\n"
     ]
    }
   ],
   "source": [
    "#GLESJER\n",
    "z = x['Npobreza']\n",
    "for h in [-3,-2,-1,1,2,3]:\n",
    "    mcoaux = sm.OLS(abs(mco.resid), sm.add_constant(z**h)).fit()\n",
    "    pval = mcoaux.pvalues[1]\n",
    "    print('h:',h,'-> pvalt:',pval,';R2:',mcoaux.rsquared)"
   ]
  },
  {
   "cell_type": "markdown",
   "metadata": {},
   "source": [
    "Aquí, tenemos un error cuando metemos las variables 'ext' y 'ext2'. Además, con el resto de variables no podemos introducir valores decimales de h, por eso el intervalo de esta solo tiene números enteros."
   ]
  },
  {
   "cell_type": "markdown",
   "metadata": {},
   "source": [
    "Aun así, seguiremos con la corrección por mínimos cuadrados ponderados de las variables que no nos da error (4 de 6 variables)."
   ]
  },
  {
   "cell_type": "code",
   "execution_count": 338,
   "metadata": {},
   "outputs": [
    {
     "data": {
      "text/html": [
       "<table class=\"simpletable\">\n",
       "<caption>WLS Regression Results</caption>\n",
       "<tr>\n",
       "  <th>Dep. Variable:</th>          <td>robo</td>       <th>  R-squared:         </th> <td>   0.948</td>\n",
       "</tr>\n",
       "<tr>\n",
       "  <th>Model:</th>                   <td>WLS</td>       <th>  Adj. R-squared:    </th> <td>   0.921</td>\n",
       "</tr>\n",
       "<tr>\n",
       "  <th>Method:</th>             <td>Least Squares</td>  <th>  F-statistic:       </th> <td>   36.14</td>\n",
       "</tr>\n",
       "<tr>\n",
       "  <th>Date:</th>             <td>Fri, 10 Dec 2021</td> <th>  Prob (F-statistic):</th> <td>5.31e-07</td>\n",
       "</tr>\n",
       "<tr>\n",
       "  <th>Time:</th>                 <td>17:02:56</td>     <th>  Log-Likelihood:    </th> <td> -45.858</td>\n",
       "</tr>\n",
       "<tr>\n",
       "  <th>No. Observations:</th>      <td>    19</td>      <th>  AIC:               </th> <td>   105.7</td>\n",
       "</tr>\n",
       "<tr>\n",
       "  <th>Df Residuals:</th>          <td>    12</td>      <th>  BIC:               </th> <td>   112.3</td>\n",
       "</tr>\n",
       "<tr>\n",
       "  <th>Df Model:</th>              <td>     6</td>      <th>                     </th>     <td> </td>   \n",
       "</tr>\n",
       "<tr>\n",
       "  <th>Covariance Type:</th>      <td>nonrobust</td>    <th>                     </th>     <td> </td>   \n",
       "</tr>\n",
       "</table>\n",
       "<table class=\"simpletable\">\n",
       "<tr>\n",
       "      <td></td>        <th>coef</th>     <th>std err</th>      <th>t</th>      <th>P>|t|</th>  <th>[0.025</th>    <th>0.975]</th>  \n",
       "</tr>\n",
       "<tr>\n",
       "  <th>const</th>    <td>    3.0506</td> <td>    4.677</td> <td>    0.652</td> <td> 0.527</td> <td>   -7.140</td> <td>   13.241</td>\n",
       "</tr>\n",
       "<tr>\n",
       "  <th>PIB</th>      <td>    0.8572</td> <td>    1.358</td> <td>    0.631</td> <td> 0.540</td> <td>   -2.102</td> <td>    3.816</td>\n",
       "</tr>\n",
       "<tr>\n",
       "  <th>Nlibro</th>   <td>   -5.5582</td> <td>    2.766</td> <td>   -2.010</td> <td> 0.068</td> <td>  -11.585</td> <td>    0.468</td>\n",
       "</tr>\n",
       "<tr>\n",
       "  <th>Nparo</th>    <td>    7.1349</td> <td>    0.748</td> <td>    9.540</td> <td> 0.000</td> <td>    5.505</td> <td>    8.765</td>\n",
       "</tr>\n",
       "<tr>\n",
       "  <th>Npobreza</th> <td>   -7.0579</td> <td>    1.274</td> <td>   -5.540</td> <td> 0.000</td> <td>   -9.833</td> <td>   -4.282</td>\n",
       "</tr>\n",
       "<tr>\n",
       "  <th>ext</th>      <td>    0.0003</td> <td>    0.000</td> <td>    0.999</td> <td> 0.338</td> <td>   -0.000</td> <td>    0.001</td>\n",
       "</tr>\n",
       "<tr>\n",
       "  <th>ext2</th>     <td>    0.0002</td> <td> 9.89e-05</td> <td>    1.935</td> <td> 0.077</td> <td>-2.41e-05</td> <td>    0.000</td>\n",
       "</tr>\n",
       "</table>\n",
       "<table class=\"simpletable\">\n",
       "<tr>\n",
       "  <th>Omnibus:</th>       <td> 4.348</td> <th>  Durbin-Watson:     </th> <td>   2.256</td>\n",
       "</tr>\n",
       "<tr>\n",
       "  <th>Prob(Omnibus):</th> <td> 0.114</td> <th>  Jarque-Bera (JB):  </th> <td>   2.814</td>\n",
       "</tr>\n",
       "<tr>\n",
       "  <th>Skew:</th>          <td>-0.940</td> <th>  Prob(JB):          </th> <td>   0.245</td>\n",
       "</tr>\n",
       "<tr>\n",
       "  <th>Kurtosis:</th>      <td> 3.152</td> <th>  Cond. No.          </th> <td>2.02e+05</td>\n",
       "</tr>\n",
       "</table><br/><br/>Warnings:<br/>[1] Standard Errors assume that the covariance matrix of the errors is correctly specified.<br/>[2] The condition number is large, 2.02e+05. This might indicate that there are<br/>strong multicollinearity or other numerical problems."
      ],
      "text/plain": [
       "<class 'statsmodels.iolib.summary.Summary'>\n",
       "\"\"\"\n",
       "                            WLS Regression Results                            \n",
       "==============================================================================\n",
       "Dep. Variable:                   robo   R-squared:                       0.948\n",
       "Model:                            WLS   Adj. R-squared:                  0.921\n",
       "Method:                 Least Squares   F-statistic:                     36.14\n",
       "Date:                Fri, 10 Dec 2021   Prob (F-statistic):           5.31e-07\n",
       "Time:                        17:02:56   Log-Likelihood:                -45.858\n",
       "No. Observations:                  19   AIC:                             105.7\n",
       "Df Residuals:                      12   BIC:                             112.3\n",
       "Df Model:                           6                                         \n",
       "Covariance Type:            nonrobust                                         \n",
       "==============================================================================\n",
       "                 coef    std err          t      P>|t|      [0.025      0.975]\n",
       "------------------------------------------------------------------------------\n",
       "const          3.0506      4.677      0.652      0.527      -7.140      13.241\n",
       "PIB            0.8572      1.358      0.631      0.540      -2.102       3.816\n",
       "Nlibro        -5.5582      2.766     -2.010      0.068     -11.585       0.468\n",
       "Nparo          7.1349      0.748      9.540      0.000       5.505       8.765\n",
       "Npobreza      -7.0579      1.274     -5.540      0.000      -9.833      -4.282\n",
       "ext            0.0003      0.000      0.999      0.338      -0.000       0.001\n",
       "ext2           0.0002   9.89e-05      1.935      0.077   -2.41e-05       0.000\n",
       "==============================================================================\n",
       "Omnibus:                        4.348   Durbin-Watson:                   2.256\n",
       "Prob(Omnibus):                  0.114   Jarque-Bera (JB):                2.814\n",
       "Skew:                          -0.940   Prob(JB):                        0.245\n",
       "Kurtosis:                       3.152   Cond. No.                     2.02e+05\n",
       "==============================================================================\n",
       "\n",
       "Warnings:\n",
       "[1] Standard Errors assume that the covariance matrix of the errors is correctly specified.\n",
       "[2] The condition number is large, 2.02e+05. This might indicate that there are\n",
       "strong multicollinearity or other numerical problems.\n",
       "\"\"\""
      ]
     },
     "execution_count": 338,
     "metadata": {},
     "output_type": "execute_result"
    }
   ],
   "source": [
    "mcp= sm.WLS(y, sm.add_constant(x), weights=1./np.sqrt(z**2)).fit()\n",
    "mcp.summary()"
   ]
  },
  {
   "cell_type": "markdown",
   "metadata": {},
   "source": [
    "#  Autocorrelación"
   ]
  },
  {
   "cell_type": "markdown",
   "metadata": {},
   "source": [
    "Para estudiar si existe un problema de autocorrelación, realizamos el contraste de Durbin-Watson."
   ]
  },
  {
   "cell_type": "code",
   "execution_count": 339,
   "metadata": {},
   "outputs": [
    {
     "name": "stdout",
     "output_type": "stream",
     "text": [
      "2.03380209118168\n"
     ]
    }
   ],
   "source": [
    "mco4=sm.OLS(y, sm.add_constant(X)).fit()\n",
    "mco4.summary()\n",
    "from statsmodels.stats.stattools import durbin_watson\n",
    "dw=durbin_watson(mco4.resid)\n",
    "print(dw)"
   ]
  },
  {
   "cell_type": "markdown",
   "metadata": {},
   "source": [
    "Como el valor obtenido es aproximadamente 2, no tenemos correlación en el modelo. No debemos hacer ninguna corrección."
   ]
  },
  {
   "cell_type": "markdown",
   "metadata": {},
   "source": [
    "#  Predicción"
   ]
  },
  {
   "cell_type": "markdown",
   "metadata": {},
   "source": [
    "A causa de los problemas ejecutando los test de heteroscedastidad, no hemos logrado obtener homoscedasticidad completa en el modelo por las variables 'ext' y 'ext2'. Aunque nuestro modelo no tenga total exactitud por dicho problema, si hemos podido llegar a varias conclusiones."
   ]
  },
  {
   "cell_type": "markdown",
   "metadata": {},
   "source": [
    "Para finalizar, y teniendo en cuenta lo obtenido anteriormente, podemos asegurar que los robos producidos por comunidad   autónoma en España, dependen negativamente de los prestamos de libros en la zona y la pobreza existente en la misma, y positivamente del porcentaje de paro acumulado en dicha comunidad. Además, según nuestro modelo, el PIB en la zona no afecta a los robos (no significativamente). Por último, centrándonos en las dos variables relacionadas con los extranjeros no hemos podido concretar su incidencia exacta en los robos producidos debido a los problemas comentados antes."
   ]
  },
  {
   "cell_type": "code",
   "execution_count": null,
   "metadata": {},
   "outputs": [],
   "source": []
  },
  {
   "cell_type": "code",
   "execution_count": null,
   "metadata": {},
   "outputs": [],
   "source": []
  },
  {
   "cell_type": "code",
   "execution_count": null,
   "metadata": {},
   "outputs": [],
   "source": []
  }
 ],
 "metadata": {
  "kernelspec": {
   "display_name": "Python 3",
   "language": "python",
   "name": "python3"
  },
  "language_info": {
   "codemirror_mode": {
    "name": "ipython",
    "version": 3
   },
   "file_extension": ".py",
   "mimetype": "text/x-python",
   "name": "python",
   "nbconvert_exporter": "python",
   "pygments_lexer": "ipython3",
   "version": "3.7.3"
  }
 },
 "nbformat": 4,
 "nbformat_minor": 2
}
