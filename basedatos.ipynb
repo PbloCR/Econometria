{
 "cells": [
  {
   "cell_type": "code",
   "execution_count": 2,
   "metadata": {},
   "outputs": [],
   "source": [
    "import numpy as np\n",
    "import statsmodels.api as sm\n",
    "import statsmodels.formula.api as smf\n",
    "import matplotlib.pylab as plt\n",
    "from wooldridge import *"
   ]
  },
  {
   "cell_type": "code",
   "execution_count": 5,
   "metadata": {},
   "outputs": [
    {
     "name": "stdout",
     "output_type": "stream",
     "text": [
      "0     1.505150\n",
      "1     1.152288\n",
      "2     1.146128\n",
      "3     1.187521\n",
      "4     1.506505\n",
      "5     1.298853\n",
      "6     1.206826\n",
      "7     1.475671\n",
      "8     1.133539\n",
      "9     1.414973\n",
      "10    1.575188\n",
      "11    1.274158\n",
      "12    1.206826\n",
      "13    1.456366\n",
      "14    0.949390\n",
      "15    0.934498\n",
      "16    1.220108\n",
      "17    1.583199\n",
      "18    1.330414\n",
      "Name: lpobreza, dtype: float64\n"
     ]
    },
    {
     "name": "stderr",
     "output_type": "stream",
     "text": [
      "/srv/conda/envs/notebook/lib/python3.7/site-packages/scipy/stats/stats.py:1542: UserWarning: kurtosistest only valid for n>=20 ... continuing anyway, n=19\n",
      "  \"anyway, n=%i\" % int(n))\n"
     ]
    },
    {
     "data": {
      "text/html": [
       "<table class=\"simpletable\">\n",
       "<caption>OLS Regression Results</caption>\n",
       "<tr>\n",
       "  <th>Dep. Variable:</th>          <td>robo</td>       <th>  R-squared:         </th> <td>   0.606</td>\n",
       "</tr>\n",
       "<tr>\n",
       "  <th>Model:</th>                   <td>OLS</td>       <th>  Adj. R-squared:    </th> <td>   0.409</td>\n",
       "</tr>\n",
       "<tr>\n",
       "  <th>Method:</th>             <td>Least Squares</td>  <th>  F-statistic:       </th> <td>   3.078</td>\n",
       "</tr>\n",
       "<tr>\n",
       "  <th>Date:</th>             <td>Thu, 02 Dec 2021</td> <th>  Prob (F-statistic):</th>  <td>0.0461</td> \n",
       "</tr>\n",
       "<tr>\n",
       "  <th>Time:</th>                 <td>17:09:04</td>     <th>  Log-Likelihood:    </th> <td> -46.526</td>\n",
       "</tr>\n",
       "<tr>\n",
       "  <th>No. Observations:</th>      <td>    19</td>      <th>  AIC:               </th> <td>   107.1</td>\n",
       "</tr>\n",
       "<tr>\n",
       "  <th>Df Residuals:</th>          <td>    12</td>      <th>  BIC:               </th> <td>   113.7</td>\n",
       "</tr>\n",
       "<tr>\n",
       "  <th>Df Model:</th>              <td>     6</td>      <th>                     </th>     <td> </td>   \n",
       "</tr>\n",
       "<tr>\n",
       "  <th>Covariance Type:</th>      <td>nonrobust</td>    <th>                     </th>     <td> </td>   \n",
       "</tr>\n",
       "</table>\n",
       "<table class=\"simpletable\">\n",
       "<tr>\n",
       "      <td></td>        <th>coef</th>     <th>std err</th>      <th>t</th>      <th>P>|t|</th>  <th>[0.025</th>    <th>0.975]</th>  \n",
       "</tr>\n",
       "<tr>\n",
       "  <th>const</th>    <td>    0.4215</td> <td>    4.355</td> <td>    0.097</td> <td> 0.924</td> <td>   -9.066</td> <td>    9.909</td>\n",
       "</tr>\n",
       "<tr>\n",
       "  <th>PIB</th>      <td>    1.2683</td> <td>    1.238</td> <td>    1.024</td> <td> 0.326</td> <td>   -1.429</td> <td>    3.966</td>\n",
       "</tr>\n",
       "<tr>\n",
       "  <th>ext</th>      <td>    0.0004</td> <td>    0.000</td> <td>    1.591</td> <td> 0.138</td> <td>   -0.000</td> <td>    0.001</td>\n",
       "</tr>\n",
       "<tr>\n",
       "  <th>ext2</th>     <td>    0.0002</td> <td> 9.44e-05</td> <td>    1.898</td> <td> 0.082</td> <td>-2.65e-05</td> <td>    0.000</td>\n",
       "</tr>\n",
       "<tr>\n",
       "  <th>Npobreza</th> <td>   -5.1403</td> <td>    1.562</td> <td>   -3.292</td> <td> 0.006</td> <td>   -8.543</td> <td>   -1.738</td>\n",
       "</tr>\n",
       "<tr>\n",
       "  <th>Nparo</th>    <td>    4.3815</td> <td>    1.478</td> <td>    2.965</td> <td> 0.012</td> <td>    1.162</td> <td>    7.601</td>\n",
       "</tr>\n",
       "<tr>\n",
       "  <th>Nlibro</th>   <td>   -5.9049</td> <td>    2.843</td> <td>   -2.077</td> <td> 0.060</td> <td>  -12.100</td> <td>    0.290</td>\n",
       "</tr>\n",
       "</table>\n",
       "<table class=\"simpletable\">\n",
       "<tr>\n",
       "  <th>Omnibus:</th>       <td> 0.580</td> <th>  Durbin-Watson:     </th> <td>   2.034</td>\n",
       "</tr>\n",
       "<tr>\n",
       "  <th>Prob(Omnibus):</th> <td> 0.748</td> <th>  Jarque-Bera (JB):  </th> <td>   0.319</td>\n",
       "</tr>\n",
       "<tr>\n",
       "  <th>Skew:</th>          <td>-0.302</td> <th>  Prob(JB):          </th> <td>   0.853</td>\n",
       "</tr>\n",
       "<tr>\n",
       "  <th>Kurtosis:</th>      <td> 2.806</td> <th>  Cond. No.          </th> <td>1.99e+05</td>\n",
       "</tr>\n",
       "</table><br/><br/>Notes:<br/>[1] Standard Errors assume that the covariance matrix of the errors is correctly specified.<br/>[2] The condition number is large, 1.99e+05. This might indicate that there are<br/>strong multicollinearity or other numerical problems."
      ],
      "text/plain": [
       "<class 'statsmodels.iolib.summary.Summary'>\n",
       "\"\"\"\n",
       "                            OLS Regression Results                            \n",
       "==============================================================================\n",
       "Dep. Variable:                   robo   R-squared:                       0.606\n",
       "Model:                            OLS   Adj. R-squared:                  0.409\n",
       "Method:                 Least Squares   F-statistic:                     3.078\n",
       "Date:                Thu, 02 Dec 2021   Prob (F-statistic):             0.0461\n",
       "Time:                        17:09:04   Log-Likelihood:                -46.526\n",
       "No. Observations:                  19   AIC:                             107.1\n",
       "Df Residuals:                      12   BIC:                             113.7\n",
       "Df Model:                           6                                         \n",
       "Covariance Type:            nonrobust                                         \n",
       "==============================================================================\n",
       "                 coef    std err          t      P>|t|      [0.025      0.975]\n",
       "------------------------------------------------------------------------------\n",
       "const          0.4215      4.355      0.097      0.924      -9.066       9.909\n",
       "PIB            1.2683      1.238      1.024      0.326      -1.429       3.966\n",
       "ext            0.0004      0.000      1.591      0.138      -0.000       0.001\n",
       "ext2           0.0002   9.44e-05      1.898      0.082   -2.65e-05       0.000\n",
       "Npobreza      -5.1403      1.562     -3.292      0.006      -8.543      -1.738\n",
       "Nparo          4.3815      1.478      2.965      0.012       1.162       7.601\n",
       "Nlibro        -5.9049      2.843     -2.077      0.060     -12.100       0.290\n",
       "==============================================================================\n",
       "Omnibus:                        0.580   Durbin-Watson:                   2.034\n",
       "Prob(Omnibus):                  0.748   Jarque-Bera (JB):                0.319\n",
       "Skew:                          -0.302   Prob(JB):                        0.853\n",
       "Kurtosis:                       2.806   Cond. No.                     1.99e+05\n",
       "==============================================================================\n",
       "\n",
       "Notes:\n",
       "[1] Standard Errors assume that the covariance matrix of the errors is correctly specified.\n",
       "[2] The condition number is large, 1.99e+05. This might indicate that there are\n",
       "strong multicollinearity or other numerical problems.\n",
       "\"\"\""
      ]
     },
     "execution_count": 5,
     "metadata": {},
     "output_type": "execute_result"
    }
   ],
   "source": [
    "#Datos de basedatos\n",
    "import pandas as pd\n",
    "datos = pd.read_excel('basedatos.xlsx')\n",
    "print (datos['lpobreza'])\n",
    "y=datos['robo']\n",
    "X=datos[['PIB','ext','ext2','Npobreza','Nparo', 'Nlibro']]\n",
    "mco2 = sm.OLS(y, sm.add_constant(X)).fit()\n",
    "mco2.summary()"
   ]
  },
  {
   "cell_type": "code",
   "execution_count": 4,
   "metadata": {},
   "outputs": [
    {
     "data": {
      "text/plain": [
       "[7.846113247910679,\n",
       " 7.98487292663745,\n",
       " 8.171145083690696,\n",
       " 1.1885099397262318,\n",
       " 11.638136842762442,\n",
       " 2.176924581859497]"
      ]
     },
     "execution_count": 4,
     "metadata": {},
     "output_type": "execute_result"
    }
   ],
   "source": [
    "import statsmodels.stats.outliers_influence as oi\n",
    "\n",
    "vifs=[oi.variance_inflation_factor(X.values, i) for i in range(X.shape[1])]\n",
    "vifs"
   ]
  },
  {
   "cell_type": "code",
   "execution_count": null,
   "metadata": {},
   "outputs": [],
   "source": []
  }
 ],
 "metadata": {
  "kernelspec": {
   "display_name": "Python 3 (ipykernel)",
   "language": "python",
   "name": "python3"
  },
  "language_info": {
   "codemirror_mode": {
    "name": "ipython",
    "version": 3
   },
   "file_extension": ".py",
   "mimetype": "text/x-python",
   "name": "python",
   "nbconvert_exporter": "python",
   "pygments_lexer": "ipython3",
   "version": "3.7.12"
  }
 },
 "nbformat": 4,
 "nbformat_minor": 4
}
