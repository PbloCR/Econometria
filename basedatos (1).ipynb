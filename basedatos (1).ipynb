{
 "cells": [
  {
   "cell_type": "code",
   "execution_count": 3,
   "metadata": {},
   "outputs": [],
   "source": [
    "import numpy as np\n",
    "import statsmodels.api as sm\n",
    "import statsmodels.formula.api as smf\n",
    "import matplotlib.pylab as plt\n",
    "from wooldridge import *"
   ]
  },
  {
   "cell_type": "code",
   "execution_count": 6,
   "metadata": {},
   "outputs": [
    {
     "name": "stdout",
     "output_type": "stream",
     "text": [
      "0     1.505150\n",
      "1     1.152288\n",
      "2     1.146128\n",
      "3     1.187521\n",
      "4     1.506505\n",
      "5     1.298853\n",
      "6     1.206826\n",
      "7     1.475671\n",
      "8     1.133539\n",
      "9     1.414973\n",
      "10    1.575188\n",
      "11    1.274158\n",
      "12    1.206826\n",
      "13    1.456366\n",
      "14    0.949390\n",
      "15    0.934498\n",
      "16    1.220108\n",
      "17    1.583199\n",
      "18    1.330414\n",
      "Name: lpobreza, dtype: float64\n"
     ]
    },
    {
     "data": {
      "text/html": [
       "<table class=\"simpletable\">\n",
       "<caption>OLS Regression Results</caption>\n",
       "<tr>\n",
       "  <th>Dep. Variable:</th>          <td>robo</td>       <th>  R-squared:         </th> <td>   0.535</td>\n",
       "</tr>\n",
       "<tr>\n",
       "  <th>Model:</th>                   <td>OLS</td>       <th>  Adj. R-squared:    </th> <td>   0.302</td>\n",
       "</tr>\n",
       "<tr>\n",
       "  <th>Method:</th>             <td>Least Squares</td>  <th>  F-statistic:       </th> <td>   2.297</td>\n",
       "</tr>\n",
       "<tr>\n",
       "  <th>Date:</th>             <td>Thu, 02 Dec 2021</td> <th>  Prob (F-statistic):</th>  <td> 0.104</td> \n",
       "</tr>\n",
       "<tr>\n",
       "  <th>Time:</th>                 <td>16:36:18</td>     <th>  Log-Likelihood:    </th> <td> -48.114</td>\n",
       "</tr>\n",
       "<tr>\n",
       "  <th>No. Observations:</th>      <td>    19</td>      <th>  AIC:               </th> <td>   110.2</td>\n",
       "</tr>\n",
       "<tr>\n",
       "  <th>Df Residuals:</th>          <td>    12</td>      <th>  BIC:               </th> <td>   116.8</td>\n",
       "</tr>\n",
       "<tr>\n",
       "  <th>Df Model:</th>              <td>     6</td>      <th>                     </th>     <td> </td>   \n",
       "</tr>\n",
       "<tr>\n",
       "  <th>Covariance Type:</th>      <td>nonrobust</td>    <th>                     </th>     <td> </td>   \n",
       "</tr>\n",
       "</table>\n",
       "<table class=\"simpletable\">\n",
       "<tr>\n",
       "      <td></td>        <th>coef</th>     <th>std err</th>      <th>t</th>      <th>P>|t|</th>  <th>[0.025</th>    <th>0.975]</th>  \n",
       "</tr>\n",
       "<tr>\n",
       "  <th>const</th>    <td>  -11.8985</td> <td>   12.136</td> <td>   -0.980</td> <td> 0.346</td> <td>  -38.340</td> <td>   14.543</td>\n",
       "</tr>\n",
       "<tr>\n",
       "  <th>PIB</th>      <td>    0.2570</td> <td>    1.163</td> <td>    0.221</td> <td> 0.829</td> <td>   -2.276</td> <td>    2.790</td>\n",
       "</tr>\n",
       "<tr>\n",
       "  <th>ext</th>      <td>    0.0002</td> <td>    0.000</td> <td>    0.669</td> <td> 0.516</td> <td>   -0.000</td> <td>    0.001</td>\n",
       "</tr>\n",
       "<tr>\n",
       "  <th>ext2</th>     <td> 8.281e-05</td> <td> 8.53e-05</td> <td>    0.971</td> <td> 0.351</td> <td>   -0.000</td> <td>    0.000</td>\n",
       "</tr>\n",
       "<tr>\n",
       "  <th>Npobreza</th> <td>   -3.2362</td> <td>    1.694</td> <td>   -1.910</td> <td> 0.080</td> <td>   -6.928</td> <td>    0.455</td>\n",
       "</tr>\n",
       "<tr>\n",
       "  <th>lparo</th>    <td>   15.8644</td> <td>   11.379</td> <td>    1.394</td> <td> 0.189</td> <td>   -8.929</td> <td>   40.658</td>\n",
       "</tr>\n",
       "<tr>\n",
       "  <th>llibro</th>   <td>   -2.9497</td> <td>    1.983</td> <td>   -1.488</td> <td> 0.163</td> <td>   -7.269</td> <td>    1.370</td>\n",
       "</tr>\n",
       "</table>\n",
       "<table class=\"simpletable\">\n",
       "<tr>\n",
       "  <th>Omnibus:</th>       <td> 1.807</td> <th>  Durbin-Watson:     </th> <td>   1.855</td>\n",
       "</tr>\n",
       "<tr>\n",
       "  <th>Prob(Omnibus):</th> <td> 0.405</td> <th>  Jarque-Bera (JB):  </th> <td>   1.031</td>\n",
       "</tr>\n",
       "<tr>\n",
       "  <th>Skew:</th>          <td>-0.180</td> <th>  Prob(JB):          </th> <td>   0.597</td>\n",
       "</tr>\n",
       "<tr>\n",
       "  <th>Kurtosis:</th>      <td> 1.917</td> <th>  Cond. No.          </th> <td>5.89e+05</td>\n",
       "</tr>\n",
       "</table><br/><br/>Warnings:<br/>[1] Standard Errors assume that the covariance matrix of the errors is correctly specified.<br/>[2] The condition number is large, 5.89e+05. This might indicate that there are<br/>strong multicollinearity or other numerical problems."
      ],
      "text/plain": [
       "<class 'statsmodels.iolib.summary.Summary'>\n",
       "\"\"\"\n",
       "                            OLS Regression Results                            \n",
       "==============================================================================\n",
       "Dep. Variable:                   robo   R-squared:                       0.535\n",
       "Model:                            OLS   Adj. R-squared:                  0.302\n",
       "Method:                 Least Squares   F-statistic:                     2.297\n",
       "Date:                Thu, 02 Dec 2021   Prob (F-statistic):              0.104\n",
       "Time:                        16:36:18   Log-Likelihood:                -48.114\n",
       "No. Observations:                  19   AIC:                             110.2\n",
       "Df Residuals:                      12   BIC:                             116.8\n",
       "Df Model:                           6                                         \n",
       "Covariance Type:            nonrobust                                         \n",
       "==============================================================================\n",
       "                 coef    std err          t      P>|t|      [0.025      0.975]\n",
       "------------------------------------------------------------------------------\n",
       "const        -11.8985     12.136     -0.980      0.346     -38.340      14.543\n",
       "PIB            0.2570      1.163      0.221      0.829      -2.276       2.790\n",
       "ext            0.0002      0.000      0.669      0.516      -0.000       0.001\n",
       "ext2        8.281e-05   8.53e-05      0.971      0.351      -0.000       0.000\n",
       "Npobreza      -3.2362      1.694     -1.910      0.080      -6.928       0.455\n",
       "lparo         15.8644     11.379      1.394      0.189      -8.929      40.658\n",
       "llibro        -2.9497      1.983     -1.488      0.163      -7.269       1.370\n",
       "==============================================================================\n",
       "Omnibus:                        1.807   Durbin-Watson:                   1.855\n",
       "Prob(Omnibus):                  0.405   Jarque-Bera (JB):                1.031\n",
       "Skew:                          -0.180   Prob(JB):                        0.597\n",
       "Kurtosis:                       1.917   Cond. No.                     5.89e+05\n",
       "==============================================================================\n",
       "\n",
       "Warnings:\n",
       "[1] Standard Errors assume that the covariance matrix of the errors is correctly specified.\n",
       "[2] The condition number is large, 5.89e+05. This might indicate that there are\n",
       "strong multicollinearity or other numerical problems.\n",
       "\"\"\""
      ]
     },
     "execution_count": 6,
     "metadata": {},
     "output_type": "execute_result"
    }
   ],
   "source": [
    "#Datos de basedatos\n",
    "import pandas as pd\n",
    "datos = pd.read_excel('basedatos.xlsx', delimiter=\";\")\n",
    "print (datos['lpobreza'])\n",
    "y=datos['robo']\n",
    "X=datos[['PIB','ext','ext2','Npobreza','lparo', 'llibro']]\n",
    "mco2 = sm.OLS(y, sm.add_constant(X)).fit()\n",
    "mco2.summary()"
   ]
  },
  {
   "cell_type": "code",
   "execution_count": 7,
   "metadata": {},
   "outputs": [
    {
     "data": {
      "text/plain": [
       "[7.846113247910679,\n",
       " 7.98487292663745,\n",
       " 8.171145083690696,\n",
       " 1.1885099397262313,\n",
       " 11.638136842762442,\n",
       " 2.176924581859496]"
      ]
     },
     "execution_count": 7,
     "metadata": {},
     "output_type": "execute_result"
    }
   ],
   "source": [
    "import statsmodels.stats.outliers_influence as oi\n",
    "\n",
    "vifs=[oi.variance_inflation_factor(X.values, i) for i in range(X.shape[1])]\n",
    "vifs"
   ]
  },
  {
   "cell_type": "code",
   "execution_count": null,
   "metadata": {},
   "outputs": [],
   "source": []
  }
 ],
 "metadata": {
  "kernelspec": {
   "display_name": "Python 3",
   "language": "python",
   "name": "python3"
  },
  "language_info": {
   "codemirror_mode": {
    "name": "ipython",
    "version": 3
   },
   "file_extension": ".py",
   "mimetype": "text/x-python",
   "name": "python",
   "nbconvert_exporter": "python",
   "pygments_lexer": "ipython3",
   "version": "3.7.3"
  }
 },
 "nbformat": 4,
 "nbformat_minor": 2
}
